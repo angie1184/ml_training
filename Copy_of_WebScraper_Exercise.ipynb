{
  "nbformat": 4,
  "nbformat_minor": 0,
  "metadata": {
    "colab": {
      "name": "Copy of WebScraper Exercise",
      "provenance": [],
      "authorship_tag": "ABX9TyNtOyQQbr6m7KR4Ez/SPBWW",
      "include_colab_link": true
    },
    "kernelspec": {
      "name": "python3",
      "display_name": "Python 3"
    },
    "language_info": {
      "name": "python"
    }
  },
  "cells": [
    {
      "cell_type": "markdown",
      "metadata": {
        "id": "view-in-github",
        "colab_type": "text"
      },
      "source": [
        "<a href=\"https://colab.research.google.com/github/angie1184/ml_training/blob/master/Copy_of_WebScraper_Exercise.ipynb\" target=\"_parent\"><img src=\"https://colab.research.google.com/assets/colab-badge.svg\" alt=\"Open In Colab\"/></a>"
      ]
    },
    {
      "cell_type": "code",
      "metadata": {
        "id": "EBU0AddGJ2dw"
      },
      "source": [
        "#News Scrape\n",
        "\n",
        "!pip install selenium\n",
        "!apt-get update\n",
        "!apt install chromium-chromedriver\n",
        "!cp /usr/lib/chromium-browser/chromedriver /usr/bin\n",
        "import sys\n",
        "sys.path.insert(0, '/usr/lib/chromium-browser/chromedriver')\n",
        "\n",
        "#Import libraries\n",
        "import selenium.webdriver as webdriver\n",
        "import time\n",
        "from bs4 import BeautifulSoup\n",
        "import requests\n",
        "from lxml import html\n",
        "import pickle\n",
        "import os\n",
        "import json\n",
        "from datetime import datetime\n",
        "from datetime import timezone\n",
        "from datetime import date as datemethod\n",
        "\n",
        "from selenium.webdriver.chrome.options import options\n",
        "\n",
        "#General Functions\n",
        "def get_today():\n",
        "    utc_t = datetime.utcnow()\n",
        "    date_str = datemethod.strftime(utc_t, '%Y%m%dZ%H%M%S')\n",
        "    return date_str\n",
        "\n",
        "#Get Links from HTML\n",
        "#get HTML with page scroll\n",
        "def get_html_scroll(url): \n",
        "  options= Options()\n",
        "  options.set_headless(headless=True)\n",
        "      browser = webdriver.chrome(options = options,)\n",
        "    browser.get(url)\n",
        "    lenOfPage = browser.execute_script(\"window.scrollTo(0, document.body.scrollHeight);var lenOfPage=document.body.scrollHeight;return lenOfPage;\")\n",
        "    match=False\n",
        "    while(match==False):\n",
        "        lastCount = lenOfPage\n",
        "        time.sleep(4)\n",
        "        lenOfPage = browser.execute_script(\"window.scrollTo(0, document.body.scrollHeight);var lenOfPage=document.body.scrollHeight;return lenOfPage;\")\n",
        "        if lastCount==lenOfPage:\n",
        "            time.sleep(4)\n",
        "            match=True\n",
        "    post_elms = browser.page_source\n",
        "    return post_elms\n",
        "\n",
        " "
      ],
      "execution_count": null,
      "outputs": []
    }
  ]
}